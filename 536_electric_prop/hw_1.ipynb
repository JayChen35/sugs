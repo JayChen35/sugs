{
 "cells": [
  {
   "cell_type": "markdown",
   "id": "1497521c",
   "metadata": {},
   "source": [
    "# AEROSP 536 Electric Propulsion: Homework 1\n",
    "Jason Chen\n",
    "\n",
    "## Problem 3\n",
    "### Part (a)\n",
    "We need to check for inconsistencies in the data provided. First, we can check if the efficiency \n"
   ]
  },
  {
   "cell_type": "code",
   "execution_count": null,
   "id": "7b805949",
   "metadata": {},
   "outputs": [
    {
     "name": "stdout",
     "output_type": "stream",
     "text": [
      "Residual 0: -4.060042e-08 kg/s\n",
      "Specific energy: 146.2 MJ/kg\n",
      "Residual 1: -3.950766e-05 kg/s\n",
      "Specific energy: 54.02 MJ/kg\n",
      "Residual 2: -4.260390e-05 kg/s\n",
      "Specific energy: 52.58 MJ/kg\n",
      "Residual 3: 5.129713e-06 kg/s\n",
      "Specific energy: 401.2 MJ/kg\n",
      "Residual 4: 4.998952e-06 kg/s\n",
      "Specific energy: 413.2 MJ/kg\n"
     ]
    }
   ],
   "source": [
    "import numpy as np\n",
    "\n",
    "data = {\n",
    "    'P_in'     : np.array([4.46, 1.26, 1.25, 3.26, 3.24]) * 1e3,\n",
    "    'F_t'      : np.array([357.8, 248.5, 264.0, 92.7, 95.0]) * 1e-3,\n",
    "    'F_t_range': np.array([  4.6,   3.3,   2.7,  2.7,  3.0]) * 1e-3,\n",
    "    'eta'      : np.array([0.47, 0.39, 0.42, 0.44, 0.49]),\n",
    "    'eta_range': np.array([0.01, 0.02, 0.03, 0.01, 0.02]),\n",
    "    'isp'      : np.array([1196, 1086, 1132, 1163, 1235]),\n",
    "    'isp_range': np.array([  15,   32,   33,   16,   16])\n",
    "}\n",
    "num_entries = 5\n",
    "for i in range(num_entries):\n",
    "    mdot_1 = data['F_t'][i] / (data['isp'][i] * 9.81)\n",
    "    mdot_2 = (1/2) * (data['F_t'][i]**2) / (data['eta'][i] * data['P_in'][i])\n",
    "    print(f\"Residual mass flow rate for {i}: {mdot_1 - mdot_2:.3e} kg/s\")\n",
    "\n"
   ]
  }
 ],
 "metadata": {
  "kernelspec": {
   "display_name": ".venv",
   "language": "python",
   "name": "python3"
  },
  "language_info": {
   "codemirror_mode": {
    "name": "ipython",
    "version": 3
   },
   "file_extension": ".py",
   "mimetype": "text/x-python",
   "name": "python",
   "nbconvert_exporter": "python",
   "pygments_lexer": "ipython3",
   "version": "3.12.3"
  }
 },
 "nbformat": 4,
 "nbformat_minor": 5
}
