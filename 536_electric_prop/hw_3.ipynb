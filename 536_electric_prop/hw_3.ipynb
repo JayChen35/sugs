{
 "cells": [
  {
   "cell_type": "markdown",
   "id": "6d5a8389",
   "metadata": {},
   "source": [
    "# AEROSP 536 Electric Propulsion: Homework 3\n",
    "Jason Chen"
   ]
  },
  {
   "cell_type": "code",
   "execution_count": null,
   "id": "838dd5e2",
   "metadata": {},
   "outputs": [],
   "source": [
    "import numpy as np\n",
    "import matplotlib.pyplot as plt\n",
    "import pandas as pd\n",
    "from pint import UnitRegistry\n",
    "ureg = UnitRegistry(auto_reduce_dimensions=True)\n",
    "Q_ = ureg.Quantity"
   ]
  },
  {
   "cell_type": "markdown",
   "id": "310095b0",
   "metadata": {},
   "source": [
    "## Problem 4\n",
    "### Part (a)\n",
    "We're asked to find the temperature at the centerline, which we can solve for by knowing the approximation for radial temperature variation in an arcjet as given in lecture:\n",
    "$$\n",
    "\\eta \\left( \\frac{I}{A_t} \\right)^2 = -\\frac{1}{r} \\frac{\\partial}{\\partial r} \\left[ \\Kappa r \\frac{\\partial T}{\\partial r} \\right]\n",
    "$$"
   ]
  },
  {
   "cell_type": "markdown",
   "id": "4be96c55",
   "metadata": {},
   "source": [
    "Integrating (area, current, and resistivity are constant radially from the problem statement):\n",
    "$$\n",
    "-\\eta \\left( \\frac{I}{A_t} \\right)^2 \\int{r dr} = \\int{ \\frac{\\partial}{\\partial r} \\left[ \\Kappa r \\frac{\\partial T}{\\partial r} \\right] dr}\n",
    "$$\n",
    "$$\n",
    "-\\frac{\\eta}{2} \\left( \\frac{I}{A_t} \\right)^2 r^2 = \\Kappa r \\frac{\\partial T}{\\partial r}\n",
    "$$\n",
    "$$\n",
    "\\int_{r}^{R}{\\frac{\\partial T}{\\partial r} dr} = T(R) - T(r) = \\int_{r}^{R}{-\\frac{\\eta}{2\\Kappa} \\left( \\frac{I}{A_t} \\right)^2 rdr} = -\\frac{\\eta}{4\\Kappa} \\left( \\frac{I}{A_t} \\right)^2 \\left(R^2 - r^2\\right)\n",
    "$$\n",
    "$$\n",
    "T(0) = \\left( \\frac{\\eta R^2}{4\\Kappa} \\left( \\frac{I}{A_t} \\right)^2 \\right) + T(R)\n",
    "$$"
   ]
  },
  {
   "cell_type": "markdown",
   "id": "5db412ea",
   "metadata": {},
   "source": [
    "So the above expression gives the temperature at any point $r$ where $0 \\leq r \\leq R$, and if we plug in $r=0$ we get the temperature at the centerline. The only unknown is the resistivity, $\\eta$, which we have an expression for below:\n",
    "$$\n",
    "\\eta = \\frac{m_e v_{te} \\sigma_G}{q^2} \\left( \\frac{n_G}{n_e} \\right)\n",
    "$$\n",
    "where $m_e$ is the mass of an electron, $v_{te}$ is the thermal electron speed, $q$ is charge, $\\sigma_G$ is the cross section of a gas molecule, $n_G$ and $n_e$ are the densities of neutral gas and electrons. Solving the above:"
   ]
  },
  {
   "cell_type": "code",
   "execution_count": 79,
   "id": "03f57cba",
   "metadata": {},
   "outputs": [
    {
     "name": "stdout",
     "output_type": "stream",
     "text": [
      "Centerline temperature: 11910.3 K\n"
     ]
    }
   ],
   "source": [
    "m_e = Q_(9.109e-31, 'kg')\n",
    "q = Q_(1.602e-19, 'C')\n",
    "k_B = Q_(1.38e-23, 'J/K')\n",
    "T_e = Q_(1, 'eV')/Q_(8.617e-5, 'eV/K')\n",
    "v_te = np.sqrt((8 * k_B * T_e) / (np.pi * m_e))\n",
    "r_throat = Q_(1.2, 'cm') \n",
    "A_throat = np.pi * (r_throat**2)\n",
    "nn_ne = Q_(1/0.01, 'dimensionless')\n",
    "r_d = Q_(145, 'picometer')\n",
    "sigma_G = np.pi * (r_d**2)\n",
    "eta = ((m_e * v_te * sigma_G) / (q**2)) * nn_ne\n",
    "I = Q_(350, 'A')\n",
    "kappa = Q_(0.367, 'W/m/K')\n",
    "T_m = Q_(2700, 'K')\n",
    "T_center = (eta * r_throat**2)/(4 * kappa) * ((I/A_throat)**2) + T_m\n",
    "print(f\"Centerline temperature: {T_center.m_as('K'):.1f} K\")"
   ]
  },
  {
   "cell_type": "markdown",
   "id": "ff75ad52",
   "metadata": {},
   "source": [
    "### Part (b)\n",
    "To simplify the specific impulse equation, we look at continuity: $\\dot{m} = \\rho A u$, which in full form over an area is $\\dot{m} = \\int_A \\rho(r) u(r) dA$. This means the formulation of mass flow itself already is performing the integral over the throat area of the velocity and density profiles, and so we can pull out and cancel the $\\rho(r)$ and $\\u(r)$ terms we see in the $I_{sp}$ equation. We don't know the exact profile, but we do know that the integrals will cancel. Knowing this, we can simplify the $I_{sp}$ equation to:\n",
    "$$\n",
    "I_{sp} = \\frac{1}{g_0} \\sqrt{\\frac{4 \\pi\\eta}{A} \\int_0^R{\\epsilon_c (r) rdr}}\n",
    "$$"
   ]
  },
  {
   "cell_type": "markdown",
   "id": "b8d5fe12",
   "metadata": {},
   "source": [
    "$\\epsilon_c(r)$ is the specific energy in the throat, and since we know the kinetic energy is negligable per the problem statement, $h_0 = h + \\frac{1}{2}u^2 = h$, where we know from equipartition to be a distribution of contributions between the different energy modes. Since the vibrational mode is inactive, we only have the translational and rotational modes:\n",
    "$$\n",
    "\\epsilon_c(r) = h_c(r) = \\frac{k_B T(r)}{m_A} \\left( \\frac{5}{2} + Br \\right)\n",
    "$$\n",
    "This equation is for a linear diatomic molecule, which is the case for $H_2$, and we know $Br = 1$. Thus the above equation can be plugged in, with the known dependence of temperature on radius from Part (a)."
   ]
  },
  {
   "cell_type": "markdown",
   "id": "c8200244",
   "metadata": {},
   "source": [
    "$$\n",
    "I_{sp} = \\frac{1}{g_0} \\sqrt{\\frac{14 \\pi\\eta k_B}{A m_A} \\int_0^R{T(r) rdr}}\n",
    "$$\n",
    "$$\n",
    "I_{sp} = \\frac{1}{g_0} \\sqrt{\\frac{14 \\pi\\eta k_B}{A m_A} \\int_0^R{\\left[T(R) + \\frac{\\eta}{4\\Kappa} \\left( \\frac{I}{A_t} \\right)^2 \\left(R^2 - r^2\\right)\\right] rdr}}\n",
    "$$"
   ]
  },
  {
   "cell_type": "markdown",
   "id": "a71df1b9",
   "metadata": {},
   "source": [
    "Let $\\alpha = \\frac{\\eta}{4\\Kappa} \\left( \\frac{I}{A_t} \\right)^2$.\n",
    "$$\n",
    "I_{sp} = \\frac{1}{g_0} \\sqrt{\\frac{14 \\pi\\eta k_B}{A m_A} \\int_0^R{\\left[T(R)r + \\alpha R^2 r - \\alpha r^3\\right] dr}}\n",
    "$$\n",
    "$$\n",
    "I_{sp} = \\frac{1}{g_0} \\sqrt{\\frac{14 \\pi\\eta k_B}{A m_A} \\left( \\frac{T(R)}{2} R^2 + \\frac{\\alpha}{4} R^4 \\right)}\n",
    "$$"
   ]
  },
  {
   "cell_type": "markdown",
   "id": "87d4336d",
   "metadata": {},
   "source": [
    "Plugging in and checking this integral in Mathematica, we get:\n",
    "$$\n",
    "\\boxed{I_{sp} = 812.4 \\textrm{ s}}\n",
    "$$"
   ]
  },
  {
   "cell_type": "markdown",
   "id": "581cd5aa",
   "metadata": {},
   "source": [
    "### Part (c)\n",
    "With a uniform temperature profile, $T(0) = T_m$, and generally for an electrothermal thruster:\n",
    "$$\n",
    "I_{sp} = \\frac{1}{g_0} \\cos{\\theta_D} \\sqrt{2 \\eta_f \\eta_n (\\langle h_c \\rangle + \\langle \\mu_c \\rangle)}\n",
    "$$\n",
    "Since we know the divergence efficiency is $\\eta_d = \\cos{\\theta_D}^2$, we can move it inside the square root. We also know $\\langle \\mu_c \\rangle = 0$ since $H_2$ is in its natural state, and so there is no heat of formation. $\\langle h_c \\rangle$ is found similarly to above, where since there is now a uniform temperature, from equipartition we know the enthalpy:\n",
    "$$\n",
    "\\langle h_c \\rangle = \\frac{7}{2} \\frac{k_B T_m}{m_{H2}}\n",
    "$$"
   ]
  },
  {
   "cell_type": "code",
   "execution_count": 99,
   "id": "68e110ad",
   "metadata": {},
   "outputs": [
    {
     "name": "stdout",
     "output_type": "stream",
     "text": [
      "Resistojet specific impulse with uniform temperature: 492.7 s\n",
      "Ratio: 1.65\n"
     ]
    }
   ],
   "source": [
    "g0 = Q_(9.81, 'm/s^2')\n",
    "efficiency = Q_(0.3, 'dimensionless')\n",
    "m_H2 = Q_(3.35e-27, 'kg')\n",
    "isp_resistojet = (1/g0) * np.sqrt(2 * efficiency * ((7/2) * (k_B * T_m)/m_H2))\n",
    "print(f\"Resistojet specific impulse with uniform temperature: {isp_resistojet.m_as('s'):.1f} s\")\n",
    "print(f\"Ratio: {812.4/isp_resistojet.m_as('s'):.2f}\")"
   ]
  },
  {
   "cell_type": "markdown",
   "id": "078738d6",
   "metadata": {},
   "source": [
    "The specific impulse of an arcjet is 65% higher than that of a resistojet, for the same efficiency losses."
   ]
  },
  {
   "cell_type": "markdown",
   "id": "f44507b8",
   "metadata": {},
   "source": [
    "### Part (d)\n",
    "For temperature, we can plot the function we've found in previous parts. For the neutral density, we can use the fact that it is normalized to cancel certain terms. Starting with the ideal gas law:\n",
    "$$\n",
    "f_n = \\frac{pV}{R_u T}\n",
    "$$\n",
    "where $f_n$ is the number of moles of neutral gas. Dividing both sides by volume, we see that we can get a molar density as a function of a constant (pressure is given to be constant, and the universal gas constant is constant) and $T(r)$, which we know from above. Thus we expect $n_n$ to just be a linear slope applied on $T(r)$.\n",
    "$$\n",
    "n_n = \\frac{p}{R_u} T(r)\n",
    "$$\n",
    "Since we're normalizing by the maximum value, the constants in the above equation cancel out in the normalization operation. Thus, $n_n$ is just the inverse of $T(r)$."
   ]
  },
  {
   "cell_type": "code",
   "execution_count": null,
   "id": "949e61ab",
   "metadata": {},
   "outputs": [
    {
     "data": {
      "image/png": "[encoded data removed]",
      "text/plain": [
       "<Figure size 640x480 with 1 Axes>"
      ]
     },
     "metadata": {},
     "output_type": "display_data"
    }
   ],
   "source": [
    "r_vals = np.linspace(0, r_throat.m_as('m'), 300)\n",
    "factor = (eta.to_base_units().magnitude / (4 * kappa.to_base_units().magnitude)) * ((I.m_as('A') / A_throat.m_as('m^2')) ** 2)\n",
    "T_r = T_m.m_as('K') + factor * (r_throat.m_as('m')**2 - r_vals**2)\n",
    "norm_T = np.divide(T_r, max(T_r))\n",
    "norm_n = np.divide(1/T_r, max(1/T_r))\n",
    "\n",
    "plt.figure()\n",
    "plt.plot(r_vals, norm_T, lw=2, label='T(r)')\n",
    "plt.plot(r_vals, norm_n, lw=2, label='n_n(r)')\n",
    "plt.xlabel('Radius (m)')\n",
    "plt.ylabel('Normalized Temperature or Density [K or 1/m^3]')\n",
    "plt.legend()\n",
    "plt.title('Radial Profile at Throat')\n",
    "plt.show()"
   ]
  },
  {
   "cell_type": "markdown",
   "id": "8a880460",
   "metadata": {},
   "source": [
    "### Part (e)\n",
    "We know that the current density is constant at the throat and so we can use Ohm's Law to find the resistance between anode/cathode and gas:\n",
    "$$\n",
    "\\boxed{R_A = R_C = \\frac{V}{I} = \\frac{T_e}{q I} = 2.86 \\textrm{ m}\\Omega}\n",
    "$$\n",
    "The resistance across the gas can be approximated by a cylinder with poor conduction, where $\\eta_G$ is the resistivity that we've already found at the throat, and $l$ is the length given.\n",
    "$$\n",
    "\\boxed{R_G = \\eta_G \\frac{l}{A} = 0.104 \\textrm{ }\\Omega}\n",
    "$$"
   ]
  },
  {
   "cell_type": "markdown",
   "id": "0c1595fd",
   "metadata": {},
   "source": [
    "### Part (f)\n",
    "To find the input power, we simply use Ohm's Law again, with the resistance being the total resistance in series. Same can be done to find the resistance at the cathode:\n",
    "$$\n",
    "\\boxed{P_in = I^2(R_A + R_c + R_G) = 12.37 \\textrm{ kW}}\n",
    "$$\n",
    "$$\n",
    "\\boxed{P_c = I^2(R_c) = 349 \\textrm{ W}}\n",
    "$$\n",
    "$$\n",
    "\\boxed{\\frac{P_c}{P_{in}} = 2.8 \\%}\n",
    "$$\n",
    "We can see that arcjets have a very low percentage of power that is being deposited into the cathode (hardware, that has a given lifetime when exposed to energy) as opposed to the resistivity of the gas, when compared to resistojets. This inherently means that arcjets, for the same power, can have longer lifetimes than resistojets."
   ]
  },
  {
   "cell_type": "markdown",
   "id": "68ac5710",
   "metadata": {},
   "source": [
    "## Problem 5\n",
    "### Part (a)\n",
    "\n",
    "In this magnetic nozzle problem, we are asked to find the heater, frozen flow, and divergence efficiencies. Starting with the heater efficiency $\\eta_h$, we know that generally:\n",
    "\n",
    "$$ \\eta_h = 1-\\frac{\\dot{Q}_{loss}}{P_{in}} $$\n",
    "\n",
    "where $\\dot{Q}_{loss}$ is the total heat lost in the heater/process as opposed to the power input $P_{in}$. From the problem statement, we know the lost heat is dominated by transfer across the back wall area, which is given by:\n",
    "$$\n",
    "\\dot{Q}_{wall} = \\frac{n_e (k_B T_e)^{3/2} A_{wall}}{4\\sqrt{m_i}} \\left[ \\frac{5}{2}+2\\ln{\\sqrt{\\frac{m_i}{m_e}}} \\right]\n",
    "$$\n",
    "The only unknown in this equation (others are known constants or given in the problem statement) is $n_e$, which is the electron particle density in the chamber. We can find this using the given information: the electron and ion mole fractions are equal ($n_i = n_e$), inlet mass flow rate is known, and noting the continuity equation:\n",
    "$$\n",
    "\\dot{m} = \\rho A v\n",
    "$$\n",
    "We know the neutral mass flow into the engine, given as a standard volumetric flow rate. To convert 1 sccm to a mass flow rate, we multiply by the density of xenon at standard temperature and pressure (for US units, 68 Fahrenheit and 1 atm).\n",
    "$$\n",
    "0.7 \\times \\dot{m}_{in} = \\dot{m}_{out} = \\textrm{SCCM} \\times \\rho_{STP}\n",
    "$$\n",
    "From the statement that the ions begin with the thermal velocity at 300 K and the chamber diameter, we can solve for the mass density of the ions, $\\rho_i$. The thermal velocity is given by:\n",
    "$$\n",
    "u_{thermal} = \\sqrt{\\frac{8k_B T}{\\pi m_n}}\n",
    "$$\n",
    "Finally, with $\\rho_i$, we can convert to a particle density by dividing by the molar weight and using Avogadro's number:\n",
    "$$\n",
    "n_e = n_i = [\\rho_i / (0.1313 \\textrm{ kg/mol})](6.02 \\times 10^{23}) \n",
    "$$\n"
   ]
  },
  {
   "cell_type": "code",
   "execution_count": 217,
   "id": "f1dddca1",
   "metadata": {},
   "outputs": [
    {
     "name": "stdout",
     "output_type": "stream",
     "text": [
      "Electron number density, n_e: 4.57e+18 1/m^3\n"
     ]
    }
   ],
   "source": [
    "k_B = Q_(1.38e-23, 'J/K')  # Boltzmann constant\n",
    "m_n = Q_(131.3, 'amu')  # Mass of xenon atom\n",
    "T = Q_(300, 'K')  # Thermal velocity temperature\n",
    "rho_stp = Q_(5.8965, 'kg/m^3')  # Xenon density at STP\n",
    "mdot_in = 0.7 * Q_(1, 'cm^3/min') * rho_stp\n",
    "u_thermal = np.sqrt((8 * k_B * T)/(np.pi * m_n))\n",
    "A_chamber = np.pi * (Q_(2, 'cm')**2) / 4\n",
    "rho_i = mdot_in / (u_thermal * A_chamber)\n",
    "n_e = (rho_i / Q_(131.3, 'g/mol')) * Q_(6.022e23, '1/mol')\n",
    "print(f\"Electron number density, n_e: {n_e.m_as('1/m^3'):.2e} 1/m^3\")"
   ]
  },
  {
   "cell_type": "markdown",
   "id": "5af9acbb",
   "metadata": {},
   "source": [
    "Plugging into the $\\dot{Q}_{wall}$ equation (while searching up the mass of an electron):"
   ]
  },
  {
   "cell_type": "code",
   "execution_count": 218,
   "id": "7c79b8e7",
   "metadata": {},
   "outputs": [
    {
     "name": "stdout",
     "output_type": "stream",
     "text": [
      "Heat flow rate at wall: 23.2 W\n",
      "Heating efficiency: 22.75%\n"
     ]
    }
   ],
   "source": [
    "T_e = Q_(10, 'eV')/Q_(8.617e-5, 'eV/K')\n",
    "constant = 5/2 + 2 * np.log(np.sqrt(m_n / Q_(9.12e-31, 'kg')))\n",
    "Q_dot_wall = ((n_e * (k_B * T_e)**(3/2) * A_chamber) / (4 * np.sqrt(m_n))) * constant\n",
    "P_in = Q_(30, 'W')\n",
    "print(f\"Heat flow rate at wall: {Q_dot_wall.m_as('W'):.1f} W\")\n",
    "eta_h = (1 - Q_dot_wall / P_in)\n",
    "print(f\"Heating efficiency: {eta_h.m_as('dimensionless'):.2%}\")\n"
   ]
  },
  {
   "cell_type": "markdown",
   "id": "cda3c81a",
   "metadata": {},
   "source": [
    "To find the divergence efficiency, it is simple trigonometry (note we use the half-angle):\n",
    "$$\n",
    "\\eta_{D} = \\cos{\\theta_D}^2 = \\left(\\frac{\\sqrt{3}}{2}\\right)^2 = 75 \\%\n",
    "$$"
   ]
  },
  {
   "cell_type": "markdown",
   "id": "01911579",
   "metadata": {},
   "source": [
    "To find the frozen flow efficiency, we can start with the general form which is essentially the residual energy over the total available energy:\n",
    "$$\n",
    "\\eta_f = \\frac{(\\langle h_c \\rangle + \\langle \\mu_c \\rangle) - (\\langle h_e \\rangle + \\langle \\mu_e \\rangle)}{\\langle h_c \\rangle + \\langle \\mu_c \\rangle} \\approx 1 - \\frac{\\langle \\mu_e \\rangle}{\\langle h_c \\rangle + \\langle \\mu_c \\rangle}\n",
    "$$\n",
    "since $T_e << T_c$, so this assumption is valid. In chemical contexts, $\\mu_e$ is the residual chemical (stored bond) energy, i.e. how much heat of formation is yet to be released in the exhaust product. In this context, it is analagous to the amount of ions still present in the exhaust times the first ionization energy, since this would be the amount of energy that could have been used to produce momentum for the vehicle, but is instead unaffected by the magnetic nozzle. In other words:\n",
    "$$\n",
    "\\mu_e = \\epsilon_{iz} f_n\n",
    "$$\n",
    "where $f_n$ is the mole fraction of neutral atoms at the exit (different from $n_n$ since this is not normalized by volume). Since we know from the problem statement that $\\dot{m}_{i,out} = 0.7 \\dot{m}_{total,in}$ and that a single neutral Xenon atom produces exactly 1 electron and 1 ion when ionized, then $f_n = 0.3$ and $f_i = f_e = 0.7$. Since we know the relative concentrations of particles does not change, $\\mu_e = \\mu_c$.\n",
    "\n",
    "The total available energy in the heating chamber will be the mass (and since flux is constant, mole fraction is analagous) that has been ionized, which is $f_i = f_e$. Assuming a calorically perfect gas (valid at the temperature of 300 K), its energy can be found by $h = c_p T$, or since Xenon is a monoatomic gas with only translational and vibrational modes of energy storage, we get $h_c = \\frac{5}{2} f k_B T$ for each neutrals and ions, while electron thermal energy can be approximated as $k_B T_e$, with the initial temperature of electrons in the chamber being given.\n",
    "\n",
    "Putting it together:\n",
    "$$\n",
    "\\eta_f = 1 - \\frac{\\langle \\mu_e \\rangle}{\\langle h_c \\rangle + \\langle \\mu_c \\rangle} = 1-\\frac{\\epsilon_{iz} f_n}{k_B(\\frac{5}{2} f_i T_i + \\frac{5}{2} f_n T_n + f_e T_e) + \\epsilon_{iz} f_n}\n",
    "$$"
   ]
  },
  {
   "cell_type": "code",
   "execution_count": 219,
   "id": "ce0441ef",
   "metadata": {},
   "outputs": [
    {
     "name": "stdout",
     "output_type": "stream",
     "text": [
      "Frozen flow efficiency: 65.99%\n",
      "Total efficiency: 11.26%\n"
     ]
    }
   ],
   "source": [
    "mu = Q_(12.13, 'eV') * 0.3\n",
    "eta_f = 1-(mu/(k_B*((5/2)*0.7*T + (5/2)*0.3*T + 0.7*T_e) + mu))\n",
    "print(f\"Frozen flow efficiency: {eta_f.m_as('dimensionless'):.2%}\")\n",
    "print(f\"Total efficiency: {(eta_h * 0.75 * eta_f).m_as('dimensionless'):.2%}\")"
   ]
  },
  {
   "cell_type": "markdown",
   "id": "e5137987",
   "metadata": {},
   "source": [
    "Putting it together:\n",
    "$$\n",
    "\\boxed{\\eta = \\eta_h \\eta_d \\eta_f = 11.3 \\%}\n",
    "$$\n",
    "This is a very low efficiency, but is dominated by the heating efficiency."
   ]
  },
  {
   "cell_type": "markdown",
   "id": "b35fd6d0",
   "metadata": {},
   "source": [
    "### Part (b)\n",
    "To find specific impulse and thrust, we use the average exit velocity (ideally we would use the integral to find the actual effective velocity, but we don't have enough information here). From lecture:\n",
    "$$\n",
    "\\langle u_e \\rangle = \\sqrt{\\frac{2 P_{in}}{\\dot{m}} \\eta}\n",
    "$$\n",
    "We get:\n",
    "$$\n",
    "\\boxed{I_{sp} = \\langle u_e \\rangle / g_0 = 1010.2 \\textrm{ s}}\n",
    "$$\n",
    "We will assume matched conditions at the exit (vacuum operation, and the fact that temperature reaches zero at the exit), so no pressure thrust:\n",
    "$$\n",
    "\\boxed{F_t = \\dot{m} \\langle u_e \\rangle = 0.7 \\textrm{ mN}}\n",
    "$$"
   ]
  },
  {
   "cell_type": "code",
   "execution_count": 220,
   "id": "41fd9408",
   "metadata": {},
   "outputs": [
    {
     "name": "stdout",
     "output_type": "stream",
     "text": [
      "Specific Impulse: 1010.2 s\n",
      "Thrust: 0.682 mN\n"
     ]
    }
   ],
   "source": [
    "u_e = np.sqrt((2 * P_in / mdot_in) * (eta_h * 0.75 * eta_f))\n",
    "I_sp = u_e / Q_(9.81, 'm/s^2')\n",
    "thrust = mdot_in * u_e\n",
    "print(f\"Specific Impulse: {I_sp.m_as('s'):.1f} s\")\n",
    "print(f\"Thrust: {thrust.m_as('mN'):.3f} mN\")"
   ]
  },
  {
   "cell_type": "markdown",
   "id": "b292fb96",
   "metadata": {},
   "source": [
    "### Part (c)\n",
    "The performance we derived here is much lower than the reported $40 \\%$ overall efficiency, and this is likely due to a couple possible factors:\n",
    "- The heating efficiency seems irregularly low in our derivation, but assuming it's correct, then recent advances in X-ray heating could allow the real device to package the chamber in a smaller area, thereby decreasing heat loss through the walls \n",
    "- The ionization process in the real device may be more efficient, as the frozen flow losses come from unionized neutral atoms. It's possible that at higher input powers, the ionization process scales to be more efficient much better than at lower power\n",
    "- The assumption that there is no recombination of ions and electrons is likely not true, but this would actually lower efficiency since the magnetic nozzle would not be able to fully accelerate that mass. This points to the fact that our efficiency calculation may be flawed in some way"
   ]
  }
 ],
 "metadata": {
  "kernelspec": {
   "display_name": ".venv",
   "language": "python",
   "name": "python3"
  },
  "language_info": {
   "codemirror_mode": {
    "name": "ipython",
    "version": 3
   },
   "file_extension": ".py",
   "mimetype": "text/x-python",
   "name": "python",
   "nbconvert_exporter": "python",
   "pygments_lexer": "ipython3",
   "version": "3.12.3"
  }
 },
 "nbformat": 4,
 "nbformat_minor": 5
}
